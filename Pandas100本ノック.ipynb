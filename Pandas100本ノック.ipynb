{
  "nbformat": 4,
  "nbformat_minor": 0,
  "metadata": {
    "colab": {
      "name": "Pandas100本ノック.ipynb",
      "provenance": [],
      "authorship_tag": "ABX9TyNJ1DDRq3F81Lr5E//9/ESj",
      "include_colab_link": true
    },
    "kernelspec": {
      "name": "python3",
      "display_name": "Python 3"
    },
    "language_info": {
      "name": "python"
    }
  },
  "cells": [
    {
      "cell_type": "markdown",
      "metadata": {
        "id": "view-in-github",
        "colab_type": "text"
      },
      "source": [
        "<a href=\"https://colab.research.google.com/github/umentu/datascientist/blob/main/Pandas100%E6%9C%AC%E3%83%8E%E3%83%83%E3%82%AF.ipynb\" target=\"_parent\"><img src=\"https://colab.research.google.com/assets/colab-badge.svg\" alt=\"Open In Colab\"/></a>"
      ]
    },
    {
      "cell_type": "markdown",
      "metadata": {
        "id": "DfTtfWCTV5io"
      },
      "source": [
        "# pandas 100本ノック\n",
        "https://qiita.com/kunishou/items/bd5fad9a334f4f5be51c"
      ]
    },
    {
      "cell_type": "markdown",
      "metadata": {
        "id": "UXRdUPLHWe5X"
      },
      "source": [
        "## No.1 [基礎] dfに読み込んだデータの最初の5行を表示"
      ]
    },
    {
      "cell_type": "code",
      "metadata": {
        "id": "hock0JDTV2uM"
      },
      "source": [
        ""
      ],
      "execution_count": null,
      "outputs": []
    },
    {
      "cell_type": "markdown",
      "metadata": {
        "id": "C4LMj28DWzZX"
      },
      "source": [
        "## No.2 [基礎] dfに読み込んだデータの最後の5行を表示\n"
      ]
    },
    {
      "cell_type": "code",
      "metadata": {
        "id": "PJJCBIYnWzZX"
      },
      "source": [
        ""
      ],
      "execution_count": null,
      "outputs": []
    },
    {
      "cell_type": "markdown",
      "metadata": {
        "id": "biLHLHduW0Cp"
      },
      "source": [
        "## No.3 [基礎] dfのDataFrameサイズを確認\n"
      ]
    },
    {
      "cell_type": "code",
      "metadata": {
        "id": "hbvoGny8W0Cq"
      },
      "source": [
        ""
      ],
      "execution_count": null,
      "outputs": []
    },
    {
      "cell_type": "markdown",
      "metadata": {
        "id": "KA-PnlknW0JN"
      },
      "source": [
        "## No.4 [基礎] inputフォルダ内のdata1.csvファイルを読み込みdf2に格納、最初の5行を表示"
      ]
    },
    {
      "cell_type": "code",
      "metadata": {
        "id": "jnyFCvWuW0JO"
      },
      "source": [
        ""
      ],
      "execution_count": null,
      "outputs": []
    },
    {
      "cell_type": "markdown",
      "metadata": {
        "id": "dI0xEQGNW0OT"
      },
      "source": [
        "## No.5 dfのfareの列で昇順に並び替えて表示\n"
      ]
    },
    {
      "cell_type": "code",
      "metadata": {
        "id": "Wntv-JI6W0OU"
      },
      "source": [
        ""
      ],
      "execution_count": null,
      "outputs": []
    },
    {
      "cell_type": "markdown",
      "metadata": {
        "id": "txqIsEx7W0Su"
      },
      "source": [
        "## No.6 [基礎] df_copyにdfをコピーして、最初の5行を表示\n"
      ]
    },
    {
      "cell_type": "code",
      "metadata": {
        "id": "bNM_KX94W0Su"
      },
      "source": [
        ""
      ],
      "execution_count": null,
      "outputs": []
    },
    {
      "cell_type": "markdown",
      "metadata": {
        "id": "yAU-gkgeW0X5"
      },
      "source": [
        "## No.7 [基礎] \n",
        "① dfの各列のデータ型を確認\n",
        "\n",
        "② dfのcabinの列のデータ型を確認\n"
      ]
    },
    {
      "cell_type": "code",
      "metadata": {
        "id": "pyBVHSDaW0X6"
      },
      "source": [
        ""
      ],
      "execution_count": null,
      "outputs": []
    },
    {
      "cell_type": "markdown",
      "metadata": {
        "id": "NYlkwIT4W0bZ"
      },
      "source": [
        "## No.8[基礎]\n",
        "① dfのpclassの列のデータ型をdtypeで確認\n",
        "\n",
        "② 数値型から文字型に変換し、データ型をdtypeで確認"
      ]
    },
    {
      "cell_type": "code",
      "metadata": {
        "id": "02F9lMV-W0bZ"
      },
      "source": [
        ""
      ],
      "execution_count": null,
      "outputs": []
    },
    {
      "cell_type": "markdown",
      "metadata": {
        "id": "PvPWV4r3W0kA"
      },
      "source": [
        "## No.9 [基礎] dfのレコード数(行数)を確認"
      ]
    },
    {
      "cell_type": "code",
      "metadata": {
        "id": "ercR7dgvW0kA"
      },
      "source": [
        ""
      ],
      "execution_count": null,
      "outputs": []
    },
    {
      "cell_type": "markdown",
      "metadata": {
        "id": "5gc93cAWYJLz"
      },
      "source": [
        "## No. 10 [基礎] dfのレコード数(行数)、各列のデータ型、欠損値の有無を確認\n",
        "\n"
      ]
    },
    {
      "cell_type": "code",
      "metadata": {
        "id": "saZB0r2PYNL0"
      },
      "source": [
        ""
      ],
      "execution_count": null,
      "outputs": []
    },
    {
      "cell_type": "markdown",
      "metadata": {
        "id": "zc2-EHrUYPd8"
      },
      "source": [
        "## No. 11 [基礎] dfのsex,cabinの列の要素を確認"
      ]
    },
    {
      "cell_type": "code",
      "metadata": {
        "id": "pUFFt2UDYPd9"
      },
      "source": [
        ""
      ],
      "execution_count": null,
      "outputs": []
    },
    {
      "cell_type": "markdown",
      "metadata": {
        "id": "eurN78NeYqAA"
      },
      "source": [
        "## No. 12 [基礎] dfの列名一覧をlist形式で表示\n"
      ]
    },
    {
      "cell_type": "code",
      "metadata": {
        "id": "q6EZey1rYqAM"
      },
      "source": [
        ""
      ],
      "execution_count": null,
      "outputs": []
    },
    {
      "cell_type": "markdown",
      "metadata": {
        "id": "5VTDDisoYqKj"
      },
      "source": [
        "## No. 13 [基礎] dfのインデックス一覧をndarray形式で表示\n"
      ]
    },
    {
      "cell_type": "code",
      "metadata": {
        "id": "i4DQZ9BsYqKk"
      },
      "source": [
        ""
      ],
      "execution_count": null,
      "outputs": []
    },
    {
      "cell_type": "markdown",
      "metadata": {
        "id": "r-rvczVVYqNp"
      },
      "source": [
        "## No. 14 [抽出] dfのnameの列のみ表示 "
      ]
    },
    {
      "cell_type": "code",
      "metadata": {
        "id": "d2S6QVCtYqNq"
      },
      "source": [
        ""
      ],
      "execution_count": null,
      "outputs": []
    },
    {
      "cell_type": "markdown",
      "metadata": {
        "id": "yS6Kuwa3YqQI"
      },
      "source": [
        "## No. 15 [抽出] dfのnameとsexの列のみ表示"
      ]
    },
    {
      "cell_type": "code",
      "metadata": {
        "id": "iu3B6h8eYqQJ"
      },
      "source": [
        ""
      ],
      "execution_count": null,
      "outputs": []
    },
    {
      "cell_type": "markdown",
      "metadata": {
        "id": "E0G-hMDtYqSb"
      },
      "source": [
        "## No. 16 [抽出] dfのindex(行)の4行目までを表示\n"
      ]
    },
    {
      "cell_type": "code",
      "metadata": {
        "id": "Arre0K3eYqSc"
      },
      "source": [
        ""
      ],
      "execution_count": null,
      "outputs": []
    },
    {
      "cell_type": "markdown",
      "metadata": {
        "id": "uDCk0q3pYqV6"
      },
      "source": [
        "## No. 17 [抽出] dfのindex(行)の4行目から10行目までを表示\n"
      ]
    },
    {
      "cell_type": "code",
      "metadata": {
        "id": "V03775bGYqV7"
      },
      "source": [
        ""
      ],
      "execution_count": null,
      "outputs": []
    },
    {
      "cell_type": "markdown",
      "metadata": {
        "id": "Wfc302J_YqXw"
      },
      "source": [
        "## No. 18 [抽出] locを使ってdf全体を表示\n"
      ]
    },
    {
      "cell_type": "code",
      "metadata": {
        "id": "n5QOIm48YqXx"
      },
      "source": [
        ""
      ],
      "execution_count": null,
      "outputs": []
    },
    {
      "cell_type": "markdown",
      "metadata": {
        "id": "JXfJDQm_YqZ-"
      },
      "source": [
        "\n",
        "\n",
        "```\n",
        "# これはコードとして書式設定されます\n",
        "```\n",
        "\n",
        "## No. 19[抽出] locを使ってdfのfare列をすべて表示\n"
      ]
    },
    {
      "cell_type": "code",
      "metadata": {
        "id": "fP9Z2zv8YqZ_"
      },
      "source": [
        ""
      ],
      "execution_count": null,
      "outputs": []
    },
    {
      "cell_type": "markdown",
      "metadata": {
        "id": "on8BDIZbYqbo"
      },
      "source": [
        "## No. 20 [抽出] locを使ってdfのfare列の10行目まで表示\n"
      ]
    },
    {
      "cell_type": "code",
      "metadata": {
        "id": "GBuA6vcoYqbp"
      },
      "source": [
        ""
      ],
      "execution_count": null,
      "outputs": []
    },
    {
      "cell_type": "markdown",
      "metadata": {
        "id": "bvekULNqYqgO"
      },
      "source": [
        "## No. 21 [抽出] locを使ってdfのnameとticketの列をすべて表示\n"
      ]
    },
    {
      "cell_type": "code",
      "metadata": {
        "id": "Vbfi6dxKYqgP"
      },
      "source": [
        ""
      ],
      "execution_count": null,
      "outputs": []
    },
    {
      "cell_type": "markdown",
      "metadata": {
        "id": "MAkrYcgDYqjV"
      },
      "source": [
        "## No. 22 [抽出] locを使ってdfのnameからcabinまでの列をすべて表示\n"
      ]
    },
    {
      "cell_type": "code",
      "metadata": {
        "id": "nlYlDhwoYqjV"
      },
      "source": [
        ""
      ],
      "execution_count": null,
      "outputs": []
    },
    {
      "cell_type": "markdown",
      "metadata": {
        "id": "0lM6cxCTYql0"
      },
      "source": [
        "## No. 23 [抽出] ilocを使ってdfのage列を5行目まで表示\n"
      ]
    },
    {
      "cell_type": "code",
      "metadata": {
        "id": "tcYICujIYql0"
      },
      "source": [
        ""
      ],
      "execution_count": null,
      "outputs": []
    },
    {
      "cell_type": "markdown",
      "metadata": {
        "id": "fY8KFclMYqoQ"
      },
      "source": [
        "## No. 24 [抽出] \n",
        "dfのname,age,sexの列のみ抽出しdf2に格納\n",
        "\n",
        "その後outputフォルダにcsvファイルで出力"
      ]
    },
    {
      "cell_type": "code",
      "metadata": {
        "id": "g9M3eEdsYqoQ"
      },
      "source": [
        ""
      ],
      "execution_count": null,
      "outputs": []
    },
    {
      "cell_type": "markdown",
      "metadata": {
        "id": "ptwv9VufYqqe"
      },
      "source": [
        "## No. 25 [抽出] dfのage列の値が30以上のデータのみ抽出\n"
      ]
    },
    {
      "cell_type": "code",
      "metadata": {
        "id": "MLVu1SSmYqqf"
      },
      "source": [
        ""
      ],
      "execution_count": null,
      "outputs": []
    },
    {
      "cell_type": "markdown",
      "metadata": {
        "id": "eaHxyQxkYqyN"
      },
      "source": [
        "## No. 26 [抽出] dfのsex列がfemaleのデータのみ抽出\n"
      ]
    },
    {
      "cell_type": "code",
      "metadata": {
        "id": "t3l5lV44YqyN"
      },
      "source": [
        ""
      ],
      "execution_count": null,
      "outputs": []
    },
    {
      "cell_type": "markdown",
      "metadata": {
        "id": "Z-CYMmsIYq0O"
      },
      "source": [
        "## No. 27 [抽出] dfのsex列がfemaleでかつageが40以上のデータのみ抽出\n"
      ]
    },
    {
      "cell_type": "code",
      "metadata": {
        "id": "7pJsIkcGYq0O"
      },
      "source": [
        ""
      ],
      "execution_count": null,
      "outputs": []
    },
    {
      "cell_type": "markdown",
      "metadata": {
        "id": "ss_jEFxkYq2W"
      },
      "source": [
        "## No.28 [抽出] queryを用いてdfのsex列がfemaleでかつageが40以上のデータのみ抽出\n"
      ]
    },
    {
      "cell_type": "code",
      "metadata": {
        "id": "p6fa9IE3Yq2W"
      },
      "source": [
        ""
      ],
      "execution_count": null,
      "outputs": []
    },
    {
      "cell_type": "markdown",
      "metadata": {
        "id": "85K8ZcmeYq4U"
      },
      "source": [
        "## No. 29 [抽出] dfのname列に文字列「Mrs」が含まれるデータを表示\n"
      ]
    },
    {
      "cell_type": "code",
      "metadata": {
        "id": "tOeM6jSOYq4V"
      },
      "source": [
        ""
      ],
      "execution_count": null,
      "outputs": []
    },
    {
      "cell_type": "markdown",
      "metadata": {
        "id": "53faTr3PYq5k"
      },
      "source": [
        "## No. 30 [抽出] dfの中で文字型の列のみを表示\n"
      ]
    },
    {
      "cell_type": "code",
      "metadata": {
        "id": "sVg6NZHUYq5l"
      },
      "source": [
        ""
      ],
      "execution_count": null,
      "outputs": []
    },
    {
      "cell_type": "markdown",
      "metadata": {
        "id": "5mA9_oOEYq7n"
      },
      "source": [
        "## No. 31 [抽出] dfの各列のユニークな要素数のカウント\n"
      ]
    },
    {
      "cell_type": "code",
      "metadata": {
        "id": "OGQBnacWYq7n"
      },
      "source": [
        ""
      ],
      "execution_count": null,
      "outputs": []
    },
    {
      "cell_type": "markdown",
      "metadata": {
        "id": "dMj-HpDLYq9G"
      },
      "source": [
        "## No.32 [抽出] dfのembarked列の要素と出現回数の確認\n"
      ]
    },
    {
      "cell_type": "code",
      "metadata": {
        "id": "FOYq4mriYq9G"
      },
      "source": [
        ""
      ],
      "execution_count": null,
      "outputs": []
    },
    {
      "cell_type": "markdown",
      "metadata": {
        "id": "1ehmXWnQYrAA"
      },
      "source": [
        "## No.33 [加工] dfのindex名が「3」のage列を30から40に変更\n"
      ]
    },
    {
      "cell_type": "code",
      "metadata": {
        "id": "dD5rvMCwYrAA"
      },
      "source": [
        ""
      ],
      "execution_count": null,
      "outputs": []
    },
    {
      "cell_type": "markdown",
      "metadata": {
        "id": "rrNf0ySXYrBa"
      },
      "source": [
        "## No.34 [加工] dfのsex列にてmale→0、femlae→1に変更し、先頭の5行を表示\n"
      ]
    },
    {
      "cell_type": "code",
      "metadata": {
        "id": "YYOn8tDKYrBa"
      },
      "source": [
        ""
      ],
      "execution_count": null,
      "outputs": []
    },
    {
      "cell_type": "markdown",
      "metadata": {
        "id": "2wl-fZCCYrCf"
      },
      "source": [
        "## No.35 [加工] dfのfare列に100を足して、先頭の5行を表示\n"
      ]
    },
    {
      "cell_type": "code",
      "metadata": {
        "id": "nko5cpBxYrCg"
      },
      "source": [
        ""
      ],
      "execution_count": null,
      "outputs": []
    },
    {
      "cell_type": "markdown",
      "metadata": {
        "id": "9GWH-YFqYrGm"
      },
      "source": [
        "## No.36 [加工] dfのfare列を2を掛けて、先頭の5行を表示\n"
      ]
    },
    {
      "cell_type": "code",
      "metadata": {
        "id": "N3dh_z8PYrGm"
      },
      "source": [
        ""
      ],
      "execution_count": null,
      "outputs": []
    },
    {
      "cell_type": "markdown",
      "metadata": {
        "id": "mPlrLARxYrHv"
      },
      "source": [
        "## No. 37 [加工] dfのfare列を小数点以下で丸める\n"
      ]
    },
    {
      "cell_type": "code",
      "metadata": {
        "id": "zGXk5KJkYrHw"
      },
      "source": [
        ""
      ],
      "execution_count": null,
      "outputs": []
    },
    {
      "cell_type": "markdown",
      "metadata": {
        "id": "YBHhPnsGYrJO"
      },
      "source": [
        "## No.38 [加工]　dfに列名「test」で値がすべて1のカラムを追加し、先頭の5行を表示"
      ]
    },
    {
      "cell_type": "code",
      "metadata": {
        "id": "lI6TXbSFYrJO"
      },
      "source": [
        ""
      ],
      "execution_count": null,
      "outputs": []
    },
    {
      "cell_type": "markdown",
      "metadata": {
        "id": "5dBHp2gjYrKn"
      },
      "source": [
        "## No.39 [加工] dfにcabinとembarkedの列を「_」で結合した列を追加(列名は「test」)し、先頭の5行を表示\n"
      ]
    },
    {
      "cell_type": "code",
      "metadata": {
        "id": "Iam9AxxuYrKn"
      },
      "source": [
        ""
      ],
      "execution_count": null,
      "outputs": []
    },
    {
      "cell_type": "markdown",
      "metadata": {
        "id": "sNmr2zifYrMA"
      },
      "source": [
        "## No.40 [加工] dfにageとembarkedの列を「_」で結合した列を追加(列名は「test」)し、先頭の5行を表示\n"
      ]
    },
    {
      "cell_type": "code",
      "metadata": {
        "id": "duNFArVOYrMB"
      },
      "source": [
        ""
      ],
      "execution_count": null,
      "outputs": []
    },
    {
      "cell_type": "markdown",
      "metadata": {
        "id": "bMQUvPeSapJ-"
      },
      "source": [
        "## No. 41 [加工] dfからbodyの列を削除し、最初の5行を表示\n"
      ]
    },
    {
      "cell_type": "code",
      "metadata": {
        "id": "Ld0RKa8capKK"
      },
      "source": [
        ""
      ],
      "execution_count": null,
      "outputs": []
    },
    {
      "cell_type": "markdown",
      "metadata": {
        "id": "MQ7UTUQVawTP"
      },
      "source": [
        "## No.42 [加工] dfからインデックス名「3」の行を削除し、最初の5行を表示\n"
      ]
    },
    {
      "cell_type": "code",
      "metadata": {
        "id": "sPvRHarrawTQ"
      },
      "source": [
        ""
      ],
      "execution_count": null,
      "outputs": []
    },
    {
      "cell_type": "markdown",
      "metadata": {
        "id": "-M3N92f1awWi"
      },
      "source": [
        "## No. 43[加工] \n",
        "\n",
        "df2の列名を'name', 'class', 'Biology', 'Physics', 'Chemistry'に変更\n",
        "\n",
        "df2の最初の5行を表示"
      ]
    },
    {
      "cell_type": "code",
      "metadata": {
        "id": "ndLJ8VmHawWi"
      },
      "source": [
        ""
      ],
      "execution_count": null,
      "outputs": []
    },
    {
      "cell_type": "markdown",
      "metadata": {
        "id": "MjXZkDf7awZK"
      },
      "source": [
        "## No.44 [加工]\n",
        "df2の列名を'English'を'Biology'に変更\n",
        "\n",
        "df2の最初の5行を表示 "
      ]
    },
    {
      "cell_type": "code",
      "metadata": {
        "id": "7L9RLb7bawZL"
      },
      "source": [
        ""
      ],
      "execution_count": null,
      "outputs": []
    },
    {
      "cell_type": "markdown",
      "metadata": {
        "id": "6uIDhxYyawb5"
      },
      "source": [
        "## No.45 [加工] \n",
        "df2のインデックス名「1」を「10」に変更\n",
        "\n",
        "df2の最初の5行を表示\n"
      ]
    },
    {
      "cell_type": "code",
      "metadata": {
        "id": "S32rcCH8awb6"
      },
      "source": [
        ""
      ],
      "execution_count": null,
      "outputs": []
    },
    {
      "cell_type": "markdown",
      "metadata": {
        "id": "DXBvI0kXawe-"
      },
      "source": [
        "## No.46 [加工] dfのすべての列の欠損値数を確認\n"
      ]
    },
    {
      "cell_type": "code",
      "metadata": {
        "id": "U3Fe2sfXawe_"
      },
      "source": [
        ""
      ],
      "execution_count": null,
      "outputs": []
    },
    {
      "cell_type": "markdown",
      "metadata": {
        "id": "nZWK2DjJawgw"
      },
      "source": [
        "## No.47 [加工] \n",
        "dfのageの列の欠損値に30を代入\n",
        "*斜体テキスト*\n",
        "その後、ageの欠損値数を確認"
      ]
    },
    {
      "cell_type": "code",
      "metadata": {
        "id": "yXG93jwYawgx"
      },
      "source": [
        ""
      ],
      "execution_count": null,
      "outputs": []
    },
    {
      "cell_type": "markdown",
      "metadata": {
        "id": "bmpLoAUCawi5"
      },
      "source": [
        "## No.48 [加工] \n",
        "dfでひとつでも欠損値がある行を削除\n",
        "\n",
        "その後、dfの欠損値数を確認"
      ]
    },
    {
      "cell_type": "code",
      "metadata": {
        "id": "KpK1ptTWawi5"
      },
      "source": [
        ""
      ],
      "execution_count": null,
      "outputs": []
    },
    {
      "cell_type": "markdown",
      "metadata": {
        "id": "WkzqztqUawlG"
      },
      "source": [
        "## No.49 [加工] dfのsurvivedの列をarray形式(配列)で表示\n"
      ]
    },
    {
      "cell_type": "code",
      "metadata": {
        "id": "MHdP59bGawlH"
      },
      "source": [
        ""
      ],
      "execution_count": null,
      "outputs": []
    },
    {
      "cell_type": "markdown",
      "metadata": {
        "id": "iumI4ga9awnU"
      },
      "source": [
        "## No.50 [加工] dfの行をシャッフルして表示\n"
      ]
    },
    {
      "cell_type": "code",
      "metadata": {
        "id": "aLkv9Q9bawnU"
      },
      "source": [
        ""
      ],
      "execution_count": null,
      "outputs": []
    },
    {
      "cell_type": "markdown",
      "metadata": {
        "id": "cbYjWYC7awq9"
      },
      "source": [
        "## No.51 [加工] dfの行をシャッフルし、インデックスを振り直して表示\n"
      ]
    },
    {
      "cell_type": "code",
      "metadata": {
        "id": "V4uoYurSawq9"
      },
      "source": [
        ""
      ],
      "execution_count": null,
      "outputs": []
    },
    {
      "cell_type": "markdown",
      "metadata": {
        "id": "qgvofOGdawtX"
      },
      "source": [
        "## No.52 [加工] \n",
        "①df2の重複行数をカウント\n",
        "\n",
        "②df2の重複行を削除し表示"
      ]
    },
    {
      "cell_type": "code",
      "metadata": {
        "id": "ySOyVv_QawtX"
      },
      "source": [
        ""
      ],
      "execution_count": null,
      "outputs": []
    },
    {
      "cell_type": "markdown",
      "metadata": {
        "id": "0ne3v8UiawwM"
      },
      "source": [
        "## No.53 [加工] dfのnameの列をすべて大文字に変換し表示\n",
        " "
      ]
    },
    {
      "cell_type": "code",
      "metadata": {
        "id": "e55x_bvuawwM"
      },
      "source": [
        ""
      ],
      "execution_count": null,
      "outputs": []
    },
    {
      "cell_type": "markdown",
      "metadata": {
        "id": "N56EWWyWawy3"
      },
      "source": [
        "## No.54 [加工] dfのnameの列をすべて小文字に変換し表示\n"
      ]
    },
    {
      "cell_type": "code",
      "metadata": {
        "id": "MS1OYfiDawy4"
      },
      "source": [
        ""
      ],
      "execution_count": null,
      "outputs": []
    },
    {
      "cell_type": "markdown",
      "metadata": {
        "id": "a8XycVr3aw0S"
      },
      "source": [
        "## No.55 [加工] dfのsex列に含まれる「female」という単語を「Python」に置換"
      ]
    },
    {
      "cell_type": "code",
      "metadata": {
        "id": "FKAkXzs3aw0S"
      },
      "source": [
        ""
      ],
      "execution_count": null,
      "outputs": []
    },
    {
      "cell_type": "markdown",
      "metadata": {
        "id": "ddx_rZybaw29"
      },
      "source": [
        "## No.56 [加工] 加工\tdfのname列1行目の「Allen, Miss. Elisabeth Walton」の「Elisabeth」を消去(import reが必要)"
      ]
    },
    {
      "cell_type": "code",
      "metadata": {
        "id": "_pnQI12_aw29"
      },
      "source": [
        ""
      ],
      "execution_count": null,
      "outputs": []
    },
    {
      "cell_type": "markdown",
      "metadata": {
        "id": "gYP5z4J1aw4n"
      },
      "source": [
        "## No.57 [加工] df5の都道府県列と市区町村列を空白がないように「_」で結合(新規列名は「test2」)し、先頭5行を表示"
      ]
    },
    {
      "cell_type": "code",
      "metadata": {
        "id": "12uRerEBaw4o"
      },
      "source": [
        ""
      ],
      "execution_count": null,
      "outputs": []
    },
    {
      "cell_type": "markdown",
      "metadata": {
        "id": "_QhDY055b55E"
      },
      "source": [
        "## No.58 [加工] df2の行と列を入れ替えて表示\n"
      ]
    },
    {
      "cell_type": "code",
      "metadata": {
        "id": "-RVYk-Myb55E"
      },
      "source": [
        ""
      ],
      "execution_count": null,
      "outputs": []
    },
    {
      "cell_type": "markdown",
      "metadata": {
        "id": "FFVkSj5Kb6Ai"
      },
      "source": [
        "## No.59 [マージと連結] df2にdf3を左結合し、df2に格納\n"
      ]
    },
    {
      "cell_type": "code",
      "metadata": {
        "id": "8Qg_OH3Pb6Ai"
      },
      "source": [
        ""
      ],
      "execution_count": null,
      "outputs": []
    },
    {
      "cell_type": "markdown",
      "metadata": {
        "id": "uhlUQN8lcED5"
      },
      "source": [
        "## No.60 [マージと連結] df2にdf3を右結合し、df2に格納\n"
      ]
    },
    {
      "cell_type": "code",
      "metadata": {
        "id": "q30wvujBcED6"
      },
      "source": [
        ""
      ],
      "execution_count": null,
      "outputs": []
    },
    {
      "cell_type": "markdown",
      "metadata": {
        "id": "iUMh853XcEMD"
      },
      "source": [
        "## No.61 [マージと連結] df2にdf3を内部結合し、df2に格納\n"
      ]
    },
    {
      "cell_type": "code",
      "metadata": {
        "id": "oA929zIwcEME"
      },
      "source": [
        ""
      ],
      "execution_count": null,
      "outputs": []
    },
    {
      "cell_type": "markdown",
      "metadata": {
        "id": "gqi5l-SgcEZJ"
      },
      "source": [
        "## No.62 [マージと連結] df2にdf3を外部結合し、df2に格納\n"
      ]
    },
    {
      "cell_type": "code",
      "metadata": {
        "id": "okGCyb8XcEZJ"
      },
      "source": [
        ""
      ],
      "execution_count": null,
      "outputs": []
    },
    {
      "cell_type": "markdown",
      "metadata": {
        "id": "ZdaF2D2ycEgw"
      },
      "source": [
        "## No.63 [マージと連結] df2とdf4を列方向に連結し、df2に格納\n"
      ]
    },
    {
      "cell_type": "code",
      "metadata": {
        "id": "ghyYIXITcEgx"
      },
      "source": [
        ""
      ],
      "execution_count": null,
      "outputs": []
    },
    {
      "cell_type": "markdown",
      "metadata": {
        "id": "KXZcaCdGcEm1"
      },
      "source": [
        "## No.64 [マージと連結] df2とdf4を列方向に連結し重複しているname列の片方を削除し、df2に格納"
      ]
    },
    {
      "cell_type": "code",
      "metadata": {
        "id": "Z6vNElGhcsKF"
      },
      "source": [
        ""
      ],
      "execution_count": null,
      "outputs": []
    },
    {
      "cell_type": "markdown",
      "metadata": {
        "id": "sYDx4PPvcEuZ"
      },
      "source": [
        "## No.65 [マージと連結] df2とdf2を行方向に連結し重複しているname列の片方を削除し、df2に格納"
      ]
    },
    {
      "cell_type": "code",
      "metadata": {
        "id": "y6tG7sRncEua"
      },
      "source": [
        ""
      ],
      "execution_count": null,
      "outputs": []
    },
    {
      "cell_type": "markdown",
      "metadata": {
        "id": "A2yFZt6GcE3M"
      },
      "source": [
        "## No.66 [統計] dfのage列の平均値を確認\n",
        " "
      ]
    },
    {
      "cell_type": "code",
      "metadata": {
        "id": "kHpdz0WjcE3M"
      },
      "source": [
        ""
      ],
      "execution_count": null,
      "outputs": []
    },
    {
      "cell_type": "markdown",
      "metadata": {
        "id": "Hie5ZnZ_cwwp"
      },
      "source": [
        "## No.67 [統計] dfのage列の中央値を確認\n"
      ]
    },
    {
      "cell_type": "code",
      "metadata": {
        "id": "QK1z2xYqcwwp"
      },
      "source": [
        ""
      ],
      "execution_count": null,
      "outputs": []
    },
    {
      "cell_type": "markdown",
      "metadata": {
        "id": "7SnHBNWQcw20"
      },
      "source": [
        "## No.68 [統計] \n",
        "①df2の生徒ごとの合計点（行方向の合計）\n",
        "\n",
        "②df2の科目ごとの点数の総和（列方向の合計）"
      ]
    },
    {
      "cell_type": "code",
      "metadata": {
        "id": "4r9ZbQPKcw21"
      },
      "source": [
        ""
      ],
      "execution_count": null,
      "outputs": []
    },
    {
      "cell_type": "markdown",
      "metadata": {
        "id": "a8N_uf9FcxRM"
      },
      "source": [
        "## No.69 [統計] df2のEnglishで得点の最大値\n"
      ]
    },
    {
      "cell_type": "code",
      "metadata": {
        "id": "gw2i3pCqcxRM"
      },
      "source": [
        ""
      ],
      "execution_count": null,
      "outputs": []
    },
    {
      "cell_type": "markdown",
      "metadata": {
        "id": "i5TorJ1AcxZw"
      },
      "source": [
        "## No.70 [統計] df2のEnglishで得点の最小値\n"
      ]
    },
    {
      "cell_type": "code",
      "metadata": {
        "id": "6NS_Y8XOcxZx"
      },
      "source": [
        ""
      ],
      "execution_count": null,
      "outputs": []
    },
    {
      "cell_type": "markdown",
      "metadata": {
        "id": "rrmS2vtxcxfM"
      },
      "source": [
        "## No.71 [統計] df2においてclassでグルーピングし、クラスごとの科目の最大値、最小値、平均値を求める(name列は削除しておく)\n"
      ]
    },
    {
      "cell_type": "code",
      "metadata": {
        "id": "3Zvx_7tMcxfN"
      },
      "source": [
        ""
      ],
      "execution_count": null,
      "outputs": []
    },
    {
      "cell_type": "markdown",
      "metadata": {
        "id": "c44-jp9kcxiN"
      },
      "source": [
        "## No.72 [統計] dfの基本統計量を確認(describe)\n"
      ]
    },
    {
      "cell_type": "code",
      "metadata": {
        "id": "pJoU3-pHcxiN"
      },
      "source": [
        ""
      ],
      "execution_count": null,
      "outputs": []
    },
    {
      "cell_type": "markdown",
      "metadata": {
        "id": "6U3BT03dcxlh"
      },
      "source": [
        "## No.73 [統計] dfの各列間の(Pearson)相関係数を確認\n"
      ]
    },
    {
      "cell_type": "code",
      "metadata": {
        "id": "H1rGXb2jcxlh"
      },
      "source": [
        ""
      ],
      "execution_count": null,
      "outputs": []
    },
    {
      "cell_type": "markdown",
      "metadata": {
        "id": "ZTvFjwcKcxtQ"
      },
      "source": [
        "## No.74 [統計] scikit-learnを用いてdf2のEnglish、Mathmatics、Historyを標準化する\n"
      ]
    },
    {
      "cell_type": "code",
      "metadata": {
        "id": "O_WD67uRcxtQ"
      },
      "source": [
        ""
      ],
      "execution_count": null,
      "outputs": []
    },
    {
      "cell_type": "markdown",
      "metadata": {
        "id": "VEkfi-SscxxD"
      },
      "source": [
        "## No.75 [統計] scikit-learnを用いてdf2のEnglish列を標準化する\n"
      ]
    },
    {
      "cell_type": "code",
      "metadata": {
        "id": "Ay9bzeG0cxxD"
      },
      "source": [
        ""
      ],
      "execution_count": null,
      "outputs": []
    },
    {
      "cell_type": "markdown",
      "metadata": {
        "id": "uOUTT50icx_T"
      },
      "source": [
        "## No.76 [統計] scikit-learnを用いてdf2のEnglish、Mathmatics、History列をMin-Maxスケーリングする\n"
      ]
    },
    {
      "cell_type": "code",
      "metadata": {
        "id": "7CHbjnftcx_T"
      },
      "source": [
        ""
      ],
      "execution_count": null,
      "outputs": []
    },
    {
      "cell_type": "markdown",
      "metadata": {
        "id": "z_3-cjO5cyOS"
      },
      "source": [
        "## No.77 [統計] dfのfare列の最大値、最小値の行名を取得\n"
      ]
    },
    {
      "cell_type": "code",
      "metadata": {
        "id": "hGbVLDOKcyOS"
      },
      "source": [
        ""
      ],
      "execution_count": null,
      "outputs": []
    },
    {
      "cell_type": "markdown",
      "metadata": {
        "id": "lLJJUc8xcySz"
      },
      "source": [
        "## No.78 [統計] dfのfare列の0、25、50、75、100パーセンタイルを取得\n"
      ]
    },
    {
      "cell_type": "code",
      "metadata": {
        "id": "vn0C1BIdcyS0"
      },
      "source": [
        ""
      ],
      "execution_count": null,
      "outputs": []
    },
    {
      "cell_type": "markdown",
      "metadata": {
        "id": "NS-gextYdUE8"
      },
      "source": [
        "## No.79 [統計] \n",
        "①dfのage列の最頻値を取得\n",
        "\n",
        "②value_counts()にてage列の要素数を確認し、①の結果の妥当性を確認\n"
      ]
    },
    {
      "cell_type": "code",
      "metadata": {
        "id": "QhpyhkGtdUE9"
      },
      "source": [
        ""
      ],
      "execution_count": null,
      "outputs": []
    },
    {
      "cell_type": "markdown",
      "metadata": {
        "id": "NsOAWcaZdULr"
      },
      "source": [
        "### No.80 [ラベリング] dfのsex列をラベルエンコーディングし、dfの先頭5行を表示\n",
        " "
      ]
    },
    {
      "cell_type": "code",
      "metadata": {
        "id": "qox5Hw02dULr"
      },
      "source": [
        ""
      ],
      "execution_count": null,
      "outputs": []
    },
    {
      "cell_type": "markdown",
      "metadata": {
        "id": "46N1O_G7dddq"
      },
      "source": [
        "## No.81 [ラベリング] dfのsex列をOne-hotエンコーディングし、dfの先頭5行を表示\n"
      ]
    },
    {
      "cell_type": "code",
      "metadata": {
        "id": "ompQQWbedddq"
      },
      "source": [
        ""
      ],
      "execution_count": null,
      "outputs": []
    },
    {
      "cell_type": "markdown",
      "metadata": {
        "id": "inUDv6p3ddj1"
      },
      "source": [
        "## No.82 [Pandasプロット] dfのすべての数値列のヒストグラムを表示\n"
      ]
    },
    {
      "cell_type": "code",
      "metadata": {
        "id": "gVClFIxpddj2"
      },
      "source": [
        ""
      ],
      "execution_count": null,
      "outputs": []
    },
    {
      "cell_type": "markdown",
      "metadata": {
        "id": "e2dymyRPduVS"
      },
      "source": [
        "## No.83 [Pandasプロット] dfのage列をヒストグラムで表示\n"
      ]
    },
    {
      "cell_type": "code",
      "metadata": {
        "id": "pLIIASs1duVT"
      },
      "source": [
        ""
      ],
      "execution_count": null,
      "outputs": []
    },
    {
      "cell_type": "markdown",
      "metadata": {
        "id": "ZabURh1adubx"
      },
      "source": [
        "## No.84 [Pandasプロット] df2のnameごとの3科目合計得点を棒グラフで表示\n"
      ]
    },
    {
      "cell_type": "code",
      "metadata": {
        "id": "zMjTbQ5Xduby"
      },
      "source": [
        ""
      ],
      "execution_count": null,
      "outputs": []
    },
    {
      "cell_type": "markdown",
      "metadata": {
        "id": "KSqMLwuIduhc"
      },
      "source": [
        "## No.85 [Pandasプロット] df2のname列の要素ごとの3科目を棒グラフで並べて表示\n"
      ]
    },
    {
      "cell_type": "code",
      "metadata": {
        "id": "gItu2Uxxduhd"
      },
      "source": [
        ""
      ],
      "execution_count": null,
      "outputs": []
    },
    {
      "cell_type": "markdown",
      "metadata": {
        "id": "oqL8Z1Fqdvky"
      },
      "source": [
        "## No.86 [Pandasプロット] df2のname列の要素ごとの3科目を積み上げ棒グラフで表示\n"
      ]
    },
    {
      "cell_type": "code",
      "metadata": {
        "id": "uun27YU1dvky"
      },
      "source": [
        ""
      ],
      "execution_count": null,
      "outputs": []
    },
    {
      "cell_type": "markdown",
      "metadata": {
        "id": "qta2kPx6dvp-"
      },
      "source": [
        "## No.87 [Pandasプロット] dfの各列間の散布図を表示\n"
      ]
    },
    {
      "cell_type": "code",
      "metadata": {
        "id": "CCeZHJM-dvp-"
      },
      "source": [
        ""
      ],
      "execution_count": null,
      "outputs": []
    },
    {
      "cell_type": "markdown",
      "metadata": {
        "id": "GoTTvUz3dvxY"
      },
      "source": [
        "## No.88 [Pandasプロット] dfのage列とfare列で散布図を作成\n"
      ]
    },
    {
      "cell_type": "code",
      "metadata": {
        "id": "oL42hlBAdvxZ"
      },
      "source": [
        ""
      ],
      "execution_count": null,
      "outputs": []
    },
    {
      "cell_type": "markdown",
      "metadata": {
        "id": "h0qwSvwLdv2_"
      },
      "source": [
        "## No.89 [Pandasプロット] 【88】で描画したグラフに「age-fare scatter」というグラフタイトルをつける"
      ]
    },
    {
      "cell_type": "code",
      "metadata": {
        "id": "K8bnQGlbdv2_"
      },
      "source": [
        ""
      ],
      "execution_count": null,
      "outputs": []
    },
    {
      "cell_type": "markdown",
      "metadata": {
        "id": "ChYDJHCaeBl_"
      },
      "source": [
        "## No.90 [タイタニック号の生存者予測] df_copyのsexとembarked列をラベルエンコーディング\n"
      ]
    },
    {
      "cell_type": "code",
      "metadata": {
        "id": "p0V3oK6xeBmB"
      },
      "source": [
        ""
      ],
      "execution_count": null,
      "outputs": []
    },
    {
      "cell_type": "markdown",
      "metadata": {
        "id": "mqilQELveNDu"
      },
      "source": [
        "## No.91 [タイタニック号の生存者予測] df_copyの欠損値を確認\n",
        "\n",
        "\n"
      ]
    },
    {
      "cell_type": "code",
      "metadata": {
        "id": "uHfjH_XLeNDu"
      },
      "source": [
        ""
      ],
      "execution_count": null,
      "outputs": []
    },
    {
      "cell_type": "markdown",
      "metadata": {
        "id": "yFFWQRTGeNqn"
      },
      "source": [
        "## No.92 [タイタニック号の生存者予測] df_copyのage、fare列の欠損値を各列の平均値で補完\n"
      ]
    },
    {
      "cell_type": "code",
      "metadata": {
        "id": "H-LjbafreNqo"
      },
      "source": [
        ""
      ],
      "execution_count": null,
      "outputs": []
    },
    {
      "cell_type": "markdown",
      "metadata": {
        "id": "sGfvFd4VeNvU"
      },
      "source": [
        "## No.93 [タイタニック号の生存者予測] df_copyの中で機械学習で使用しない不要な行を削除"
      ]
    },
    {
      "cell_type": "code",
      "metadata": {
        "id": "e1IPOB2ceNvU"
      },
      "source": [
        ""
      ],
      "execution_count": null,
      "outputs": []
    },
    {
      "cell_type": "markdown",
      "metadata": {
        "id": "f2pe0DxBeOED"
      },
      "source": [
        "## No.94 [タイタニック号の生存者予測] \n",
        "①df_copyのpclass、age、sex、fare、embarkedの列を抽出し、ndarray形式に変換\n",
        "\n",
        "②df_copyのsurvivedの列を抽出し、ndarray形式に変換"
      ]
    },
    {
      "cell_type": "code",
      "metadata": {
        "id": "Uy-N9htFeOEE"
      },
      "source": [
        ""
      ],
      "execution_count": null,
      "outputs": []
    },
    {
      "cell_type": "markdown",
      "metadata": {
        "id": "wCIHwAKbeOIN"
      },
      "source": [
        "## No.95 [タイタニック号の生存者予測] 【94】で作成したfeatrues、targetを学習データとテストデータに分割\n"
      ]
    },
    {
      "cell_type": "code",
      "metadata": {
        "id": "aBYaaL_HeOIO"
      },
      "source": [
        ""
      ],
      "execution_count": null,
      "outputs": []
    },
    {
      "cell_type": "markdown",
      "metadata": {
        "id": "MIHDdCyweOLW"
      },
      "source": [
        "## No.96 [タイタニック号の生存者予測] 学習データ(features、target)を用いランダムフォレストにて学習を実行\n"
      ]
    },
    {
      "cell_type": "code",
      "metadata": {
        "id": "OhKyWe1ueOLW"
      },
      "source": [
        ""
      ],
      "execution_count": null,
      "outputs": []
    },
    {
      "cell_type": "markdown",
      "metadata": {
        "id": "QKthCqY0eOPf"
      },
      "source": [
        "## No.97 [タイタニック号の生存者予測] test_Xデータの乗客の生存を予測\n"
      ]
    },
    {
      "cell_type": "code",
      "metadata": {
        "id": "eY4f3vuBeOPh"
      },
      "source": [
        ""
      ],
      "execution_count": null,
      "outputs": []
    },
    {
      "cell_type": "markdown",
      "metadata": {
        "id": "qOEc3jGKeORz"
      },
      "source": [
        "## No.98 [タイタニック号の生存者予測] 予測結果がtest_y(生存有無の答え)とどれぐらい整合していたかを確認(評価指標はaccuracy)"
      ]
    },
    {
      "cell_type": "code",
      "metadata": {
        "id": "PUwfRJoXeOR0"
      },
      "source": [
        ""
      ],
      "execution_count": null,
      "outputs": []
    },
    {
      "cell_type": "markdown",
      "metadata": {
        "id": "xAstxrgQeOUF"
      },
      "source": [
        "## No.99 [タイタニック号の生存者予測] 学習における各列(特徴量)の重要度を表示\n"
      ]
    },
    {
      "cell_type": "code",
      "metadata": {
        "id": "aWR9ecIxeOUG"
      },
      "source": [
        ""
      ],
      "execution_count": null,
      "outputs": []
    },
    {
      "cell_type": "markdown",
      "metadata": {
        "id": "Xe9yKl-NeOXe"
      },
      "source": [
        "## No.100 [タイタニック号の生存者予測] test_Xの予測結果をcsvでoutputフォルダに出力（ファイル名は「submission.csv」）\n",
        "\n",
        "\n"
      ]
    },
    {
      "cell_type": "code",
      "metadata": {
        "id": "DII-9d8oeOXe"
      },
      "source": [
        ""
      ],
      "execution_count": null,
      "outputs": []
    }
  ]
}